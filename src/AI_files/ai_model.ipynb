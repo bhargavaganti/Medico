{
 "cells": [
  {
   "cell_type": "markdown",
   "metadata": {},
   "source": [
    "# AI Model Notebook"
   ]
  },
  {
   "cell_type": "markdown",
   "metadata": {},
   "source": [
    "## Imports"
   ]
  },
  {
   "cell_type": "code",
   "execution_count": 4,
   "metadata": {},
   "outputs": [],
   "source": [
    "import numpy as np\n",
    "from spacy.lang.en import English\n",
    "import pandas as pd\n",
    "import os\n",
    "os.chdir('../')"
   ]
  },
  {
   "cell_type": "markdown",
   "metadata": {},
   "source": [
    "## Data Processing"
   ]
  },
  {
   "cell_type": "code",
   "execution_count": 5,
   "metadata": {},
   "outputs": [
    {
     "output_type": "execute_result",
     "data": {
      "text/plain": "              code                                            display\n0  303921000119109  Chronic tophaceous gout of hand due to renal i...\n1        450309001  Major systemic to pulmonary collateral artery ...\n2        428799009         Rotatory subluxation of atlantoaxial joint\n3         93936002        Primary malignant neoplasm of palatine bone\n4        164510000                         O/E - elbow joint abnormal",
      "text/html": "<div>\n<style scoped>\n    .dataframe tbody tr th:only-of-type {\n        vertical-align: middle;\n    }\n\n    .dataframe tbody tr th {\n        vertical-align: top;\n    }\n\n    .dataframe thead th {\n        text-align: right;\n    }\n</style>\n<table border=\"1\" class=\"dataframe\">\n  <thead>\n    <tr style=\"text-align: right;\">\n      <th></th>\n      <th>code</th>\n      <th>display</th>\n    </tr>\n  </thead>\n  <tbody>\n    <tr>\n      <th>0</th>\n      <td>303921000119109</td>\n      <td>Chronic tophaceous gout of hand due to renal i...</td>\n    </tr>\n    <tr>\n      <th>1</th>\n      <td>450309001</td>\n      <td>Major systemic to pulmonary collateral artery ...</td>\n    </tr>\n    <tr>\n      <th>2</th>\n      <td>428799009</td>\n      <td>Rotatory subluxation of atlantoaxial joint</td>\n    </tr>\n    <tr>\n      <th>3</th>\n      <td>93936002</td>\n      <td>Primary malignant neoplasm of palatine bone</td>\n    </tr>\n    <tr>\n      <th>4</th>\n      <td>164510000</td>\n      <td>O/E - elbow joint abnormal</td>\n    </tr>\n  </tbody>\n</table>\n</div>"
     },
     "metadata": {},
     "execution_count": 5
    }
   ],
   "source": [
    "data = \"./data/main_data.csv\"\n",
    "read_csv = pd.read_csv(data)\n",
    "read_csv[:5]"
   ]
  },
  {
   "cell_type": "code",
   "execution_count": 6,
   "metadata": {},
   "outputs": [
    {
     "data": {
      "text/html": [
       "<div>\n",
       "<style scoped>\n",
       "    .dataframe tbody tr th:only-of-type {\n",
       "        vertical-align: middle;\n",
       "    }\n",
       "\n",
       "    .dataframe tbody tr th {\n",
       "        vertical-align: top;\n",
       "    }\n",
       "\n",
       "    .dataframe thead th {\n",
       "        text-align: right;\n",
       "    }\n",
       "</style>\n",
       "<table border=\"1\" class=\"dataframe\">\n",
       "  <thead>\n",
       "    <tr style=\"text-align: right;\">\n",
       "      <th></th>\n",
       "      <th>code</th>\n",
       "      <th>display</th>\n",
       "    </tr>\n",
       "  </thead>\n",
       "  <tbody>\n",
       "    <tr>\n",
       "      <th>0</th>\n",
       "      <td>303921000119109</td>\n",
       "      <td>Chronic tophaceous gout of hand due to renal i...</td>\n",
       "    </tr>\n",
       "    <tr>\n",
       "      <th>1</th>\n",
       "      <td>450309001</td>\n",
       "      <td>Major systemic to pulmonary collateral artery ...</td>\n",
       "    </tr>\n",
       "    <tr>\n",
       "      <th>2</th>\n",
       "      <td>428799009</td>\n",
       "      <td>Rotatory subluxation of atlantoaxial joint</td>\n",
       "    </tr>\n",
       "    <tr>\n",
       "      <th>3</th>\n",
       "      <td>93936002</td>\n",
       "      <td>Primary malignant neoplasm of palatine bone</td>\n",
       "    </tr>\n",
       "    <tr>\n",
       "      <th>4</th>\n",
       "      <td>164510000</td>\n",
       "      <td>O/E - elbow joint abnormal</td>\n",
       "    </tr>\n",
       "  </tbody>\n",
       "</table>\n",
       "</div>"
      ],
      "text/plain": [
       "              code                                            display\n",
       "0  303921000119109  Chronic tophaceous gout of hand due to renal i...\n",
       "1        450309001  Major systemic to pulmonary collateral artery ...\n",
       "2        428799009         Rotatory subluxation of atlantoaxial joint\n",
       "3         93936002        Primary malignant neoplasm of palatine bone\n",
       "4        164510000                         O/E - elbow joint abnormal"
      ]
     },
     "execution_count": 6,
     "metadata": {},
     "output_type": "execute_result"
    }
   ],
   "source": [
    "data_frame = pd.DataFrame(read_csv)\n",
    "data_frame.head()"
   ]
  },
  {
   "cell_type": "code",
   "execution_count": 7,
   "metadata": {},
   "outputs": [
    {
     "data": {
      "text/plain": [
       "0    Chronic tophaceous gout of hand due to renal i...\n",
       "1    Major systemic to pulmonary collateral artery ...\n",
       "2           Rotatory subluxation of atlantoaxial joint\n",
       "3          Primary malignant neoplasm of palatine bone\n",
       "4                           O/E - elbow joint abnormal\n",
       "Name: display, dtype: object"
      ]
     },
     "execution_count": 7,
     "metadata": {},
     "output_type": "execute_result"
    }
   ],
   "source": [
    "feature = data_frame[\"display\"]\n",
    "feature.head()"
   ]
  },
  {
   "cell_type": "code",
   "execution_count": 8,
   "metadata": {},
   "outputs": [],
   "source": [
    "X_train = data_frame[\"display\"]\n",
    "Y_train = data_frame[\"code\"]"
   ]
  },
  {
   "cell_type": "markdown",
   "metadata": {},
   "source": [
    "## NLP Imports"
   ]
  },
  {
   "cell_type": "code",
   "execution_count": 7,
   "metadata": {},
   "outputs": [],
   "source": [
    "from gensim.models.doc2vec import Doc2Vec, TaggedDocument\n",
    "import nltk\n",
    "from nltk.tokenize import word_tokenize"
   ]
  },
  {
   "cell_type": "markdown",
   "metadata": {},
   "source": [
    "## Word Tokenizing"
   ]
  },
  {
   "cell_type": "code",
   "execution_count": 9,
   "metadata": {},
   "outputs": [
    {
     "name": "stdout",
     "output_type": "stream",
     "text": [
      "[['chronic', 'tophaceous', 'gout', 'of', 'hand', 'due', 'to', 'renal', 'impairment'], ['major', 'systemic', 'to', 'pulmonary', 'collateral', 'artery', 'supplying', 'part', 'of', 'right', 'lung'], ['rotatory', 'subluxation', 'of', 'atlantoaxial', 'joint'], ['primary', 'malignant', 'neoplasm', 'of', 'palatine', 'bone'], ['o/e', '-', 'elbow', 'joint', 'abnormal'], ['obstetric', 'nipple', 'infection', 'with', 'postnatal', 'complication'], ['anterior', 'chamber', 'pseudo-exfoliation', 'deposits'], ['normal', 'sense', 'of', 'identity'], ['does', 'initiate', 'conversation'], ['dyrk1a-related', 'intellectual', 'disability', 'syndrome', 'due', 'to', '21q22.13q22.2', 'microdeletion']]\n"
     ]
    }
   ],
   "source": [
    "tokenized_doc = []\n",
    "doc = X_train.values.tolist()\n",
    "for d in doc:\n",
    "    d = str(d)\n",
    "    tokenized_doc.append(word_tokenize(d.lower()))\n",
    "print(tokenized_doc[:10])"
   ]
  },
  {
   "cell_type": "markdown",
   "metadata": {},
   "source": [
    "## Converting to Tagged Documents"
   ]
  },
  {
   "cell_type": "code",
   "execution_count": 10,
   "metadata": {},
   "outputs": [
    {
     "name": "stdout",
     "output_type": "stream",
     "text": [
      "[TaggedDocument(words=['chronic', 'tophaceous', 'gout', 'of', 'hand', 'due', 'to', 'renal', 'impairment'], tags=['303921000119109']), TaggedDocument(words=['major', 'systemic', 'to', 'pulmonary', 'collateral', 'artery', 'supplying', 'part', 'of', 'right', 'lung'], tags=['450309001']), TaggedDocument(words=['rotatory', 'subluxation', 'of', 'atlantoaxial', 'joint'], tags=['428799009']), TaggedDocument(words=['primary', 'malignant', 'neoplasm', 'of', 'palatine', 'bone'], tags=['93936002']), TaggedDocument(words=['o/e', '-', 'elbow', 'joint', 'abnormal'], tags=['164510000']), TaggedDocument(words=['obstetric', 'nipple', 'infection', 'with', 'postnatal', 'complication'], tags=['200370007']), TaggedDocument(words=['anterior', 'chamber', 'pseudo-exfoliation', 'deposits'], tags=['247002006']), TaggedDocument(words=['normal', 'sense', 'of', 'identity'], tags=['280948003']), TaggedDocument(words=['does', 'initiate', 'conversation'], tags=['288642003']), TaggedDocument(words=['dyrk1a-related', 'intellectual', 'disability', 'syndrome', 'due', 'to', '21q22.13q22.2', 'microdeletion'], tags=['783619003']), TaggedDocument(words=['abnormal', 'plantar', 'creases'], tags=['95469008']), TaggedDocument(words=['acute', 'necrotising', 'ulcerative', 'gingivostomatitis'], tags=['173599005']), TaggedDocument(words=['term', 'birth', 'of', 'identical', 'twins', ',', 'both', 'stillborn'], tags=['75697004']), TaggedDocument(words=['menopause', 'ovarian', 'failure'], tags=['237138004']), TaggedDocument(words=['chronic', 'disease', '-', 'poor', 'control'], tags=['170561004']), TaggedDocument(words=['cortisone', 'allergy'], tags=['294695007']), TaggedDocument(words=['able', 'to', 'roll', 'on', 'to', 'side'], tags=['282626003']), TaggedDocument(words=['displacement', 'of', 'thoracic', 'intervertebral', 'disc', 'without', 'myelopathy'], tags=['64787009']), TaggedDocument(words=['transportation', 'barrier', 'impedes', 'ability', 'to', 'use', 'community', 'resources'], tags=['424629004']), TaggedDocument(words=['chronic', 'infantile', 'neurological', ',', 'cutaneous', 'and', 'articular', 'syndrome'], tags=['239826001']), TaggedDocument(words=['pulmonary', 'valve', 'prolapse'], tags=['253595004']), TaggedDocument(words=['posterior', 'ankle', 'impingement'], tags=['240022008']), TaggedDocument(words=['acute', 'deep', 'venous', 'thrombosis', 'of', 'internal', 'jugular', 'vein'], tags=['135001000119100']), TaggedDocument(words=['decreased', 'hormonal', 'resistance'], tags=['6224002']), TaggedDocument(words=['fracture', 'of', 'supraorbital', 'rim'], tags=['263170006']), TaggedDocument(words=['diogenes', 'syndrome'], tags=['277850002']), TaggedDocument(words=['o/e', '-', 'sign', '-', 'ankle/foot'], tags=['164641005']), TaggedDocument(words=['spontaneous', 'closure', 'of', 'ventricular', 'component', 'of', 'atrioventricular', 'septal', 'defect'], tags=['447777009']), TaggedDocument(words=['spinocerebellar', 'ataxia', 'type', '32'], tags=['719254001']), TaggedDocument(words=['vulval', 'irritation'], tags=['161818003']), TaggedDocument(words=['medial', 'epicondylitis'], tags=['53286005']), TaggedDocument(words=['injury', 'in', 'water', 'transport', 'caused', 'by', 'galley', 'machinery', ',', 'swimmer', 'injured'], tags=['215713006']), TaggedDocument(words=['intentional', 'cyclosporin', 'poisoning'], tags=['290776004']), TaggedDocument(words=['hypoplastic', 'lymph', 'node'], tags=['234089008']), TaggedDocument(words=['cervical', 'spine', 'crepitus', 'audible'], tags=['298481006']), TaggedDocument(words=['congenital', 'talipes', 'calcaneovalgus'], tags=['205083002']), TaggedDocument(words=['complex', 'burn', 'of', 'hip'], tags=['762488008']), TaggedDocument(words=['severely', 'compromised', 'location', 'and', 'extent', 'of', 'edentulous', 'area'], tags=['709849005']), TaggedDocument(words=['sodium', 'fluoride', 'adverse', 'reaction'], tags=['293415007']), TaggedDocument(words=['carbuncle', 'of', 'tunica', 'vaginalis'], tags=['28004004']), TaggedDocument(words=['autoimmune', 'polyendocrine', 'syndrome', 'type', '4'], tags=['449730005']), TaggedDocument(words=['genetic', 'linkage', 'disequilibrium'], tags=['40976007']), TaggedDocument(words=['contusion', 'of', 'caecum'], tags=['262866006']), TaggedDocument(words=['infection', 'of', 'placenta', 'caused', 'by', 'mycobacterium', 'tuberculosis', 'complex'], tags=['788960009']), TaggedDocument(words=['adult-onset', 'chronic', 'progressive', 'external', 'ophthalmoplegia', 'with', 'mitochondrial', 'myopathy'], tags=['725464001']), TaggedDocument(words=['inequality', 'in', 'size', 'of', 'kidneys'], tags=['19167000']), TaggedDocument(words=['haemoglobin', 'sc', 'crystals'], tags=['397066005']), TaggedDocument(words=['cortical', 'dysgenesis', 'with', 'pontocerebellar', 'hypoplasia', 'due', 'to', 'tubb3', 'mutation'], tags=['784344009']), TaggedDocument(words=['action', 'myoclonus', 'renal', 'failure', 'syndrome'], tags=['764453009']), TaggedDocument(words=['congenital', 'pigmented', 'melanocytic', 'naevus', 'of', 'skin', 'of', 'right', 'lower', 'limb'], tags=['1079721000119100']), TaggedDocument(words=['deep', 'partial', 'thickness', 'burn', 'of', 'skin', 'of', 'upper', 'and', 'lower', 'lip'], tags=['770781006']), TaggedDocument(words=['dysexecutive', 'syndrome'], tags=['703041000']), TaggedDocument(words=['facial', 'milia', ',', 'lobate', 'tongue', ',', 'lingual', 'and', 'labial', 'frenula', 'syndrome'], tags=['403773005']), TaggedDocument(words=['chronic', 'hiccups'], tags=['716771000']), TaggedDocument(words=['subneopulmonary', 'valve', 'stenosis'], tags=['472782001']), TaggedDocument(words=['power', 'of', 'attorney', 'held'], tags=['186066002']), TaggedDocument(words=['chronic', 'follicular', 'conjunctivitis', 'due', 'to', 'drug'], tags=['413837004']), TaggedDocument(words=['able', 'to', 'initiate', 'gait'], tags=['773567007']), TaggedDocument(words=['exhaustion', 'due', 'to', 'exposure'], tags=['88164008']), TaggedDocument(words=['difficulty', 'writing'], tags=['102938007']), TaggedDocument(words=['illegal', 'termination', 'of', 'pregnancy', 'with', 'perforation', 'of', 'broad', 'ligament'], tags=['6802007']), TaggedDocument(words=['unable', 'to', 'grip', 'using', 'opposition', 'of', 'thumb'], tags=['284301000']), TaggedDocument(words=['lobulated', 'tongue'], tags=['253752000']), TaggedDocument(words=['accidental', 'alfentanil', 'poisoning'], tags=['290198001']), TaggedDocument(words=['pityriasiform', 'seborrhoeic', 'dermatitis'], tags=['402206006']), TaggedDocument(words=['cellulitis', 'of', 'scalp'], tags=['52190008']), TaggedDocument(words=['drug-related', 'myocardial', 'necrosis', 'syndrome'], tags=['66595008']), TaggedDocument(words=['extension', 'of', 'stroke'], tags=['281240008']), TaggedDocument(words=['chronic', 'granulomatous', 'disease', ',', 'type', 'iii'], tags=['82317007']), TaggedDocument(words=['manic', '-', 'mental', 'defence', 'mechanism'], tags=['286677008']), TaggedDocument(words=['anterior', 'cord', 'syndrome', 'of', 'cervical', 'spinal', 'cord', 'at', 'c8', 'level'], tags=['721388007']), TaggedDocument(words=['modified', 'dukes', 'stage', 'a'], tags=['56769006']), TaggedDocument(words=['phlegmonous', 'stomatitis', 'and', 'cellulitis'], tags=['38541002']), TaggedDocument(words=['methane/propane', 'poisoning'], tags=['19324003']), TaggedDocument(words=['synthetic', 'cannabinoid', 'withdrawal'], tags=['737338002']), TaggedDocument(words=['malignant', 'tumour', 'involving', 'uterine', 'corpus', 'by', 'separate', 'metastasis', 'from', 'uterine', 'cervix'], tags=['369577006']), TaggedDocument(words=['sepsis-related', 'gastrointestinal', 'ulceration'], tags=['238152004']), TaggedDocument(words=['tends', 'to', 'be', 'excessively', 'self-sufficient'], tags=['286820005']), TaggedDocument(words=['blunted', 'hypoxic', 'drive'], tags=['51899005']), TaggedDocument(words=['juvenile', 'aponeurotic', 'fibroma'], tags=['238862009']), TaggedDocument(words=['medullary', 'sponge', 'kidney', 'with', 'nephrocalcinosis'], tags=['253884000']), TaggedDocument(words=['divergence', 'retraction', 'nystagmus'], tags=['400949006']), TaggedDocument(words=['isthmic', 'spondylolisthesis'], tags=['203683004']), TaggedDocument(words=['stopped', 'drinking', 'alcohol'], tags=['160579004']), TaggedDocument(words=['klumpke-dã©jerine', 'paralysis', 'as', 'birth', 'trauma'], tags=['81774005']), TaggedDocument(words=['klumpke-dã©jerine', 'paralysis'], tags=['83886009']), TaggedDocument(words=['open', 'traumatic', 'subluxation', 'of', 'costochondral', 'joint'], tags=['209228007']), TaggedDocument(words=['asymptomatic', 'west', 'nile', 'virus', 'infection'], tags=['763018002']), TaggedDocument(words=['mild', 'hypokinesis', 'of', 'cardiac', 'wall'], tags=['371868005']), TaggedDocument(words=['contusion', ',', 'hip', 'and', 'thigh'], tags=['211519000']), TaggedDocument(words=['child', '3', 'year', 'exam', 'abnormal', '-', 'for', 'observation'], tags=['170286009']), TaggedDocument(words=['stab', 'wound', 'of', 'thigh'], tags=['283483008']), TaggedDocument(words=['varicocele', 'palpable', 'without', 'valsalva', 'manoeuvre'], tags=['698190002']), TaggedDocument(words=['plain', 'x-ray', 'of', 'toes', 'abnormal'], tags=['168693002']), TaggedDocument(words=['injury', 'of', 'vein', 'at', 'forearm', 'level'], tags=['210856007']), TaggedDocument(words=['does', 'move', 'foot'], tags=['284158005']), TaggedDocument(words=['abnormal', 'involuntary', 'movement'], tags=['260912008']), TaggedDocument(words=['kinaesthetic', 'alteration'], tags=['129860001']), TaggedDocument(words=['retained', 'nuclear', 'material', 'in', 'vitreous'], tags=['312697005']), TaggedDocument(words=['post-mastectomy', 'chronic', 'pain', 'syndrome'], tags=['714252004'])]\n",
      "2\n"
     ]
    }
   ],
   "source": [
    "features = Y_train.values.tolist()\n",
    "tagged_data = []\n",
    "for value in range(len(doc)):\n",
    "    feature = features[value]\n",
    "    tokenized_sent = tokenized_doc[value]\n",
    "    aj = TaggedDocument(tokenized_sent, [str(feature)])\n",
    "    tagged_data.append(aj)\n",
    "print(tagged_data[:100])\n",
    "tagged_data_mini = tagged_data[3:5]\n",
    "print(len(tagged_data_mini))"
   ]
  },
  {
   "cell_type": "markdown",
   "metadata": {},
   "source": [
    "## Building The Model"
   ]
  },
  {
   "cell_type": "code",
   "execution_count": 11,
   "metadata": {},
   "outputs": [
    {
     "name": "stdout",
     "output_type": "stream",
     "text": [
      "trainings started\n",
      "build end\n",
      "iteration 0\n"
     ]
    },
    {
     "name": "stderr",
     "output_type": "stream",
     "text": [
      "D:\\anaconda\\lib\\site-packages\\ipykernel_launcher.py:17: DeprecationWarning: Call to deprecated `iter` (Attribute will be removed in 4.0.0, use self.epochs instead).\n"
     ]
    },
    {
     "name": "stdout",
     "output_type": "stream",
     "text": [
      "iteration 1\n",
      "iteration 2\n",
      "iteration 3\n",
      "iteration 4\n",
      "iteration 5\n",
      "iteration 6\n",
      "iteration 7\n",
      "iteration 8\n",
      "iteration 9\n",
      "iteration 10\n",
      "iteration 11\n",
      "iteration 12\n",
      "iteration 13\n",
      "iteration 14\n",
      "iteration 15\n",
      "iteration 16\n",
      "iteration 17\n",
      "iteration 18\n",
      "iteration 19\n",
      "iteration 20\n",
      "iteration 21\n",
      "iteration 22\n",
      "iteration 23\n",
      "iteration 24\n",
      "iteration 25\n",
      "iteration 26\n",
      "iteration 27\n",
      "iteration 28\n",
      "iteration 29\n",
      "Model Saved\n"
     ]
    }
   ],
   "source": [
    "max_epochs = 30\n",
    "vec_size = 20\n",
    "alpha = 0.025\n",
    "\n",
    "model = Doc2Vec(vec_size=vec_size,\n",
    "                alpha=alpha, \n",
    "                min_alpha=0.00025,\n",
    "                min_count=1,\n",
    "                dm =1)\n",
    "print(\"trainings started\")\n",
    "model.build_vocab(tagged_data)\n",
    "print(\"build end\")\n",
    "for epoch in range(max_epochs):\n",
    "    print('iteration {0}'.format(epoch))\n",
    "    model.train(tagged_data,\n",
    "                total_examples=model.corpus_count,\n",
    "                epochs=model.iter)\n",
    "    # decrease the learning rate\n",
    "    model.alpha -= 0.0002\n",
    "    # fix the learning rate, no decay\n",
    "    model.min_alpha = model.alpha\n",
    "\n",
    "model.save(\"test_doc2vec.model\")\n",
    "print(\"Model Saved\")"
   ]
  },
  {
   "cell_type": "markdown",
   "metadata": {},
   "source": [
    "## Loading the Model"
   ]
  },
  {
   "cell_type": "code",
   "execution_count": 10,
   "metadata": {},
   "outputs": [],
   "source": [
    "model= Doc2Vec.load(\"./storage/doc2vec.model\")"
   ]
  },
  {
   "cell_type": "markdown",
   "metadata": {},
   "source": [
    "## Testing the model"
   ]
  },
  {
   "cell_type": "code",
   "execution_count": 10,
   "metadata": {},
   "outputs": [
    {
     "data": {
      "text/html": [
       "<div>\n",
       "<style scoped>\n",
       "    .dataframe tbody tr th:only-of-type {\n",
       "        vertical-align: middle;\n",
       "    }\n",
       "\n",
       "    .dataframe tbody tr th {\n",
       "        vertical-align: top;\n",
       "    }\n",
       "\n",
       "    .dataframe thead th {\n",
       "        text-align: right;\n",
       "    }\n",
       "</style>\n",
       "<table border=\"1\" class=\"dataframe\">\n",
       "  <thead>\n",
       "    <tr style=\"text-align: right;\">\n",
       "      <th></th>\n",
       "      <th>display</th>\n",
       "    </tr>\n",
       "    <tr>\n",
       "      <th>code</th>\n",
       "      <th></th>\n",
       "    </tr>\n",
       "  </thead>\n",
       "  <tbody>\n",
       "    <tr>\n",
       "      <th>303921000119109</th>\n",
       "      <td>Chronic tophaceous gout of hand due to renal i...</td>\n",
       "    </tr>\n",
       "    <tr>\n",
       "      <th>450309001</th>\n",
       "      <td>Major systemic to pulmonary collateral artery ...</td>\n",
       "    </tr>\n",
       "    <tr>\n",
       "      <th>428799009</th>\n",
       "      <td>Rotatory subluxation of atlantoaxial joint</td>\n",
       "    </tr>\n",
       "    <tr>\n",
       "      <th>93936002</th>\n",
       "      <td>Primary malignant neoplasm of palatine bone</td>\n",
       "    </tr>\n",
       "    <tr>\n",
       "      <th>164510000</th>\n",
       "      <td>O/E - elbow joint abnormal</td>\n",
       "    </tr>\n",
       "  </tbody>\n",
       "</table>\n",
       "</div>"
      ],
      "text/plain": [
       "                                                           display\n",
       "code                                                              \n",
       "303921000119109  Chronic tophaceous gout of hand due to renal i...\n",
       "450309001        Major systemic to pulmonary collateral artery ...\n",
       "428799009               Rotatory subluxation of atlantoaxial joint\n",
       "93936002               Primary malignant neoplasm of palatine bone\n",
       "164510000                               O/E - elbow joint abnormal"
      ]
     },
     "execution_count": 10,
     "metadata": {},
     "output_type": "execute_result"
    }
   ],
   "source": [
    "data_frame.head()\n",
    "try:\n",
    "    data_frame.set_index(\"code\", inplace=True)\n",
    "except KeyError:\n",
    "    pass\n",
    "data_frame.head()"
   ]
  },
  {
   "cell_type": "code",
   "execution_count": 18,
   "metadata": {},
   "outputs": [
    {
     "name": "stdout",
     "output_type": "stream",
     "text": [
      "[('719098007', 0.11558675020933151), ('707467004', 0.10146358609199524), ('369881000', 0.09773489832878113), ('450309001', 0.08361873030662537), ('707530009', 0.0750858336687088)]\n",
      "['Primary salivary gland type carcinoma of lung', 'Primary salivary gland type carcinoma lung ']\n",
      "Best Result:  707467004\n",
      "Sureity percntage:  0.2959973216056824\n",
      "[('450309001', 0.2442864179611206), ('719098007', 0.2084171324968338), ('450308009', 0.19240570068359375), ('697910001', 0.19021475315093994), ('450307004', 0.1856318563222885)]\n",
      "['Major systemic to pulmonary collateral artery supplying part of right lung', 'Major pulmonary collateral artery right lung ']\n",
      "Best Result:  450309001\n",
      "Sureity percntage:  0.18912406265735626\n"
     ]
    }
   ],
   "source": [
    "\n",
    "for _ in range(2):\n",
    "    test_doc = word_tokenize(\"I think you are sufferring from major systematic to Pulmonary collateral artery supplyiing right lung\".lower())\n",
    "    print(model.docvecs.most_similar(positive=[model.infer_vector(test_doc)],topn=5))\n",
    "    best_result = model.docvecs.most_similar(positive=[model.infer_vector(test_doc)],topn=1)\n",
    "    print(list(data_frame.loc[int(best_result[0][0]), \"display\"]))\n",
    "    print(\"Best Result: \",best_result[0][0])\n",
    "    print(\"Sureity percntage: \",best_result[0][1])"
   ]
  },
  {
   "cell_type": "markdown",
   "metadata": {},
   "source": [
    "Thank you"
   ]
  },
  {
   "cell_type": "code",
   "execution_count": 11,
   "metadata": {},
   "outputs": [
    {
     "name": "stdout",
     "output_type": "stream",
     "text": [
      "['Primary salivary gland type carcinoma of lung', 'Primary salivary gland type carcinoma lung ']\n",
      "Best Result:  707467004\n",
      "Sureity percntage:  0.6447983980178833\n",
      "['Major systemic to pulmonary collateral artery supplying part of right lung', 'Major pulmonary collateral artery right lung ']\n",
      "Best Result:  450309001\n",
      "Sureity percntage:  0.6174723505973816\n",
      "1 7\n",
      "['707467004', '450309001']\n",
      "[['Primary', 'salivary', 'gland', 'type', 'carcinoma', 'of', 'lung'], ['Major', 'systemic', 'to', 'pulmonary', 'collateral', 'artery', 'supplying', 'part', 'of', 'right', 'lung']] ['major', 'systematic', 'to', 'pulmonary', 'collateral', 'artery', 'supplying', 'right', 'lung']\n"
     ]
    }
   ],
   "source": [
    "test_doc = word_tokenize(\"major systematic to Pulmonary collateral artery supplying right lung\".lower())\n",
    "tokenized_Doc = []\n",
    "id_results=[]\n",
    "for _ in range(2):\n",
    "    model.docvecs.most_similar(positive=[model.infer_vector(test_doc)],topn=5)\n",
    "    best_result = model.docvecs.most_similar(positive=[model.infer_vector(test_doc)],topn=1)\n",
    "    most_similar = data_frame.loc[int(best_result[0][0]), \"display\"]\n",
    "    lst = list(most_similar)\n",
    "    print(lst)\n",
    "    id_results.append(best_result[0][0])\n",
    "    tokenized_Doc.append(word_tokenize(lst[0]))\n",
    "    print(\"Best Result: \",best_result[0][0])\n",
    "    print(\"Sureity percntage: \",best_result[0][1])\n",
    "i = 0\n",
    "j = 0\n",
    "for _ in test_doc:\n",
    "    if _ in tokenized_Doc[0]:\n",
    "        i+=1\n",
    "    if _ in tokenized_Doc[1]:\n",
    "        j+=1\n",
    "print(i, j)\n",
    "print(id_results)\n",
    "print(tokenized_Doc, test_doc)"
   ]
  },
  {
   "cell_type": "code",
   "execution_count": 35,
   "metadata": {},
   "outputs": [
    {
     "name": "stdout",
     "output_type": "stream",
     "text": [
      "450309001\n"
     ]
    }
   ],
   "source": [
    "minimum_len = min(len(tokenized_Doc[0]),len(tokenized_Doc[1]), len(test_doc))\n",
    "if minimum_len >3:\n",
    "    if i >=3 or j >= 3:\n",
    "        if i >= j: \n",
    "            print(id_results[0])\n",
    "        else: print(id_results[1])\n",
    "            \n",
    "    else:\n",
    "        print(\"true\")\n",
    "else:\n",
    "    if i>=2 or j>=2:\n",
    "        if i >= j: print(id_results[0])\n",
    "        else: print(id_results[1])\n",
    "    else:\n",
    "        print(\"true\")"
   ]
  },
  {
   "cell_type": "code",
   "execution_count": null,
   "metadata": {},
   "outputs": [],
   "source": []
  }
 ],
 "metadata": {
  "kernelspec": {
   "display_name": "Python 3",
   "language": "python",
   "name": "python3"
  },
  "language_info": {
   "codemirror_mode": {
    "name": "ipython",
    "version": 3
   },
   "file_extension": ".py",
   "mimetype": "text/x-python",
   "name": "python",
   "nbconvert_exporter": "python",
   "pygments_lexer": "ipython3",
   "version": "3.7.1-final"
  }
 },
 "nbformat": 4,
 "nbformat_minor": 2
}